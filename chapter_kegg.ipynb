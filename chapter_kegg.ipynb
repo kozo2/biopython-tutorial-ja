{
 "cells": [
  {
   "cell_type": "markdown",
   "metadata": {},
   "source": [
    "KEGGは特にゲノム配列情報や高性能な実験技術によって得られた大規模な分子データセットから、細胞、生物種とそのエコシステムのような\n",
    "、生物システムの高次機能やその有用性を理解するためのデータベースリソースです。\n",
    "\n",
    "BiopythonにおけるKEGGのパーサー実装は不完全であることに気をつけてください。\n",
    "KEGGのウェブサイトが多くのフラットファイルフォーマットを示す一方、今のところBiopythonではあcompound, enyzme, そして map フォーマットのためのパーサーとライターしか実装されていません。\n",
    "しかしながら、それら以外のフォーマットを扱う一般的なパーサーは実装されています。"
   ]
  },
  {
   "cell_type": "markdown",
   "metadata": {},
   "source": [
    "# 17.1  Parsing KEGG records\n",
    "KEGGの1件分のデータをパースすることはBiopythonで他のファイルフォーマットのパーサーを使うのと同様にシンプルです。\n",
    "(次のコードを実行する前に http://rest.kegg.jp/get/ec:5.4.2.2 をウェブブラウザで開き ec_5.4.2.2.txt という名で保存してください。)"
   ]
  },
  {
   "cell_type": "code",
   "execution_count": 1,
   "metadata": {
    "collapsed": false
   },
   "outputs": [],
   "source": [
    "from Bio.KEGG import Enzyme"
   ]
  },
  {
   "cell_type": "code",
   "execution_count": 8,
   "metadata": {
    "collapsed": false
   },
   "outputs": [],
   "source": [
    "records = Enzyme.parse(open(\"ec_5.4.2.2.txt\"))"
   ]
  },
  {
   "cell_type": "code",
   "execution_count": 9,
   "metadata": {
    "collapsed": true
   },
   "outputs": [],
   "source": [
    "record = list(records)[0]"
   ]
  },
  {
   "cell_type": "code",
   "execution_count": 10,
   "metadata": {
    "collapsed": false
   },
   "outputs": [
    {
     "data": {
      "text/plain": [
       "['Isomerases;',\n",
       " 'Intramolecular transferases;',\n",
       " 'Phosphotransferases (phosphomutases)']"
      ]
     },
     "execution_count": 10,
     "metadata": {},
     "output_type": "execute_result"
    }
   ],
   "source": [
    "record.classname"
   ]
  },
  {
   "cell_type": "code",
   "execution_count": 11,
   "metadata": {
    "collapsed": false
   },
   "outputs": [
    {
     "data": {
      "text/plain": [
       "'5.4.2.2'"
      ]
     },
     "execution_count": 11,
     "metadata": {},
     "output_type": "execute_result"
    }
   ],
   "source": [
    "record.entry"
   ]
  },
  {
   "cell_type": "markdown",
   "metadata": {
    "collapsed": true
   },
   "source": [
    "以後の節ではKEGG apiを用いた上記の酵素データのダウンロードの方法をカスタムのパーサで実装されていないデータを一般的なパーサーで用いるのと同様に紹介します。"
   ]
  },
  {
   "cell_type": "code",
   "execution_count": null,
   "metadata": {
    "collapsed": true
   },
   "outputs": [],
   "source": []
  }
 ],
 "metadata": {
  "kernelspec": {
   "display_name": "Python 3",
   "language": "python",
   "name": "python3"
  },
  "language_info": {
   "codemirror_mode": {
    "name": "ipython",
    "version": 3
   },
   "file_extension": ".py",
   "mimetype": "text/x-python",
   "name": "python",
   "nbconvert_exporter": "python",
   "pygments_lexer": "ipython3",
   "version": "3.5.0"
  }
 },
 "nbformat": 4,
 "nbformat_minor": 0
}
